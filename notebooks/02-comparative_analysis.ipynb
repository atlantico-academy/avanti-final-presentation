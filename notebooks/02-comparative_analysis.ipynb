{
 "cells": [
  {
   "cell_type": "markdown",
   "id": "e8758a8d-8c3f-404d-ad2e-d07d931e8904",
   "metadata": {},
   "source": [
    "# Análise comparativa"
   ]
  },
  {
   "cell_type": "markdown",
   "id": "db5bff04-2a6b-4be7-bee8-d2beac10b054",
   "metadata": {},
   "source": [
    "O objetivo dessa eanalise é comparar modelos para encontrar um que possa ser melhor utilizado dentro do problema em questão (estimar a idade por meio do numero de aneis), para isso antes realizamos a preparação e o pré-processamento dos dados."
   ]
  },
  {
   "cell_type": "markdown",
   "id": "dd79f602-d2f5-4c80-961f-fb2874024cfd",
   "metadata": {},
   "source": [
    "## Preparação dos dados"
   ]
  },
  {
   "cell_type": "markdown",
   "id": "ca2dfb54-586e-42b6-9e60-72af9fd3ec2c",
   "metadata": {},
   "source": [
    "### 1.1 Configurações iniciais"
   ]
  },
  {
   "cell_type": "markdown",
   "id": "e9287a48-5cbb-4fd8-9526-d45f7d9dae7f",
   "metadata": {},
   "source": [
    "Importações e configurações"
   ]
  },
  {
   "cell_type": "code",
   "execution_count": 1,
   "id": "0e0f525a-a243-4403-aa2e-7f4df3663f32",
   "metadata": {
    "tags": []
   },
   "outputs": [],
   "source": [
    "import pandas as pd\n",
    "import numpy as np\n",
    "import matplotlib.pyplot as plt\n",
    "import csv\n",
    "from sklearn.preprocessing import LabelEncoder, OneHotEncoder, StandardScaler\n",
    "import seaborn as sns\n",
    "from sklearn.model_selection import train_test_split, cross_val_predict, KFold\n",
    "from sklearn.metrics import mean_squared_error, mean_absolute_error, r2_score\n",
    "from sklearn.linear_model import LinearRegression, Ridge\n",
    "from sklearn.neighbors import KNeighborsRegressor\n",
    "from sklearn.svm import SVR\n",
    "from sklearn.compose import ColumnTransformer\n",
    "from sklearn.pipeline import Pipeline\n",
    "from sklearn.model_selection import KFold, train_test_split\n",
    "\n",
    "from sklearn.model_selection import (\n",
    "    cross_validate, GridSearchCV, ShuffleSplit\n",
    ")"
   ]
  },
  {
   "cell_type": "markdown",
   "id": "9e9118e8-28dc-406e-9d9a-d9fbe8168a2c",
   "metadata": {},
   "source": [
    "### 1.2 Obtendo dados"
   ]
  },
  {
   "cell_type": "markdown",
   "id": "83a9317e-5050-4f74-b1a4-0645ca2d0c88",
   "metadata": {},
   "source": [
    "Nessa etapa vamos importar arquivos brutos de dados e o dicionário antes de começarmos o pre-processamento"
   ]
  },
  {
   "cell_type": "code",
   "execution_count": 2,
   "id": "b0c0e3b1-32e5-4b3f-9d04-e8c2e5fec2ee",
   "metadata": {
    "tags": []
   },
   "outputs": [],
   "source": [
    "#Importando dados\n",
    "names = ['Sexo', 'Comprimento', 'Diâmetro', 'Altura', 'Peso total', 'Peso sem concha', 'Peso do intestino', 'Peso da concha', 'Anéis']\n",
    "df = pd.read_csv(\"https://raw.githubusercontent.com/atlantico-academy/equipe-01/master/data/raw/abalone.csv\", header=None, names=names)"
   ]
  },
  {
   "cell_type": "code",
   "execution_count": 3,
   "id": "38d6915c",
   "metadata": {},
   "outputs": [
    {
     "data": {
      "text/html": [
       "<div>\n",
       "<style scoped>\n",
       "    .dataframe tbody tr th:only-of-type {\n",
       "        vertical-align: middle;\n",
       "    }\n",
       "\n",
       "    .dataframe tbody tr th {\n",
       "        vertical-align: top;\n",
       "    }\n",
       "\n",
       "    .dataframe thead th {\n",
       "        text-align: right;\n",
       "    }\n",
       "</style>\n",
       "<table border=\"1\" class=\"dataframe\">\n",
       "  <thead>\n",
       "    <tr style=\"text-align: right;\">\n",
       "      <th></th>\n",
       "      <th>Sexo</th>\n",
       "      <th>Comprimento</th>\n",
       "      <th>Diâmetro</th>\n",
       "      <th>Altura</th>\n",
       "      <th>Peso total</th>\n",
       "      <th>Peso sem concha</th>\n",
       "      <th>Peso do intestino</th>\n",
       "      <th>Peso da concha</th>\n",
       "      <th>Anéis</th>\n",
       "    </tr>\n",
       "  </thead>\n",
       "  <tbody>\n",
       "    <tr>\n",
       "      <th>0</th>\n",
       "      <td>M</td>\n",
       "      <td>0.455</td>\n",
       "      <td>0.365</td>\n",
       "      <td>0.095</td>\n",
       "      <td>0.5140</td>\n",
       "      <td>0.2245</td>\n",
       "      <td>0.1010</td>\n",
       "      <td>0.150</td>\n",
       "      <td>15</td>\n",
       "    </tr>\n",
       "    <tr>\n",
       "      <th>1</th>\n",
       "      <td>M</td>\n",
       "      <td>0.350</td>\n",
       "      <td>0.265</td>\n",
       "      <td>0.090</td>\n",
       "      <td>0.2255</td>\n",
       "      <td>0.0995</td>\n",
       "      <td>0.0485</td>\n",
       "      <td>0.070</td>\n",
       "      <td>7</td>\n",
       "    </tr>\n",
       "    <tr>\n",
       "      <th>2</th>\n",
       "      <td>F</td>\n",
       "      <td>0.530</td>\n",
       "      <td>0.420</td>\n",
       "      <td>0.135</td>\n",
       "      <td>0.6770</td>\n",
       "      <td>0.2565</td>\n",
       "      <td>0.1415</td>\n",
       "      <td>0.210</td>\n",
       "      <td>9</td>\n",
       "    </tr>\n",
       "    <tr>\n",
       "      <th>3</th>\n",
       "      <td>M</td>\n",
       "      <td>0.440</td>\n",
       "      <td>0.365</td>\n",
       "      <td>0.125</td>\n",
       "      <td>0.5160</td>\n",
       "      <td>0.2155</td>\n",
       "      <td>0.1140</td>\n",
       "      <td>0.155</td>\n",
       "      <td>10</td>\n",
       "    </tr>\n",
       "    <tr>\n",
       "      <th>4</th>\n",
       "      <td>I</td>\n",
       "      <td>0.330</td>\n",
       "      <td>0.255</td>\n",
       "      <td>0.080</td>\n",
       "      <td>0.2050</td>\n",
       "      <td>0.0895</td>\n",
       "      <td>0.0395</td>\n",
       "      <td>0.055</td>\n",
       "      <td>7</td>\n",
       "    </tr>\n",
       "  </tbody>\n",
       "</table>\n",
       "</div>"
      ],
      "text/plain": [
       "  Sexo  Comprimento  Diâmetro  Altura  Peso total  Peso sem concha  \\\n",
       "0    M        0.455     0.365   0.095      0.5140           0.2245   \n",
       "1    M        0.350     0.265   0.090      0.2255           0.0995   \n",
       "2    F        0.530     0.420   0.135      0.6770           0.2565   \n",
       "3    M        0.440     0.365   0.125      0.5160           0.2155   \n",
       "4    I        0.330     0.255   0.080      0.2050           0.0895   \n",
       "\n",
       "   Peso do intestino  Peso da concha  Anéis  \n",
       "0             0.1010           0.150     15  \n",
       "1             0.0485           0.070      7  \n",
       "2             0.1415           0.210      9  \n",
       "3             0.1140           0.155     10  \n",
       "4             0.0395           0.055      7  "
      ]
     },
     "execution_count": 3,
     "metadata": {},
     "output_type": "execute_result"
    }
   ],
   "source": [
    "df.head()"
   ]
  },
  {
   "cell_type": "markdown",
   "id": "dca46c1d",
   "metadata": {},
   "source": [
    "Obtendo informações sobre o conjunto de dados"
   ]
  },
  {
   "cell_type": "code",
   "execution_count": 4,
   "id": "d9ce7e3c",
   "metadata": {},
   "outputs": [
    {
     "name": "stdout",
     "output_type": "stream",
     "text": [
      "<class 'pandas.core.frame.DataFrame'>\n",
      "RangeIndex: 4177 entries, 0 to 4176\n",
      "Data columns (total 9 columns):\n",
      " #   Column             Non-Null Count  Dtype  \n",
      "---  ------             --------------  -----  \n",
      " 0   Sexo               4177 non-null   object \n",
      " 1   Comprimento        4177 non-null   float64\n",
      " 2   Diâmetro           4177 non-null   float64\n",
      " 3   Altura             4177 non-null   float64\n",
      " 4   Peso total         4177 non-null   float64\n",
      " 5   Peso sem concha    4177 non-null   float64\n",
      " 6   Peso do intestino  4177 non-null   float64\n",
      " 7   Peso da concha     4177 non-null   float64\n",
      " 8   Anéis              4177 non-null   int64  \n",
      "dtypes: float64(7), int64(1), object(1)\n",
      "memory usage: 293.8+ KB\n"
     ]
    }
   ],
   "source": [
    "df.info()"
   ]
  },
  {
   "cell_type": "code",
   "execution_count": 5,
   "id": "685f6912",
   "metadata": {},
   "outputs": [
    {
     "data": {
      "text/plain": [
       "Sexo                 0\n",
       "Comprimento          0\n",
       "Diâmetro             0\n",
       "Altura               0\n",
       "Peso total           0\n",
       "Peso sem concha      0\n",
       "Peso do intestino    0\n",
       "Peso da concha       0\n",
       "Anéis                0\n",
       "dtype: int64"
      ]
     },
     "execution_count": 5,
     "metadata": {},
     "output_type": "execute_result"
    }
   ],
   "source": [
    "df.isna().sum()"
   ]
  },
  {
   "cell_type": "markdown",
   "id": "aece4658",
   "metadata": {},
   "source": [
    "O conjunto de dados é composto de 8 variáveis de entrada (7 contínuas e 1 categórica) e 1 variável de saída (inteira). Ele não possui dados faltantes."
   ]
  },
  {
   "cell_type": "markdown",
   "id": "7f253575-48cc-4e32-a154-5b02edde497e",
   "metadata": {
    "tags": []
   },
   "source": [
    "Definindo os parametros do dataset de entrada e saida"
   ]
  },
  {
   "cell_type": "code",
   "execution_count": 6,
   "id": "56bd5df3",
   "metadata": {},
   "outputs": [],
   "source": [
    "nominal_columns = ['Sexo']\n",
    "continuos_columns = ['Comprimento', 'Diâmetro', 'Altura', 'Peso total', 'Peso sem concha', 'Peso do intestino', 'Peso da concha']\n",
    "target_column = ['Anéis']"
   ]
  },
  {
   "cell_type": "code",
   "execution_count": 7,
   "id": "ddb93164-ee10-4847-b275-0a5c75de838f",
   "metadata": {
    "tags": []
   },
   "outputs": [],
   "source": [
    "# Fizemos aqui a um drop (exclusão temporaria) da coluna aneis para iniciar o modelo entrada (oque a maquina vai interpretar)\n",
    "# e saida( oque ela vai tentar adivinhar)\n",
    "X = df.drop(df[target_column], axis=1)\n",
    "y = df[target_column]"
   ]
  },
  {
   "cell_type": "code",
   "execution_count": 8,
   "id": "c75a37d2",
   "metadata": {},
   "outputs": [
    {
     "data": {
      "text/html": [
       "<div>\n",
       "<style scoped>\n",
       "    .dataframe tbody tr th:only-of-type {\n",
       "        vertical-align: middle;\n",
       "    }\n",
       "\n",
       "    .dataframe tbody tr th {\n",
       "        vertical-align: top;\n",
       "    }\n",
       "\n",
       "    .dataframe thead th {\n",
       "        text-align: right;\n",
       "    }\n",
       "</style>\n",
       "<table border=\"1\" class=\"dataframe\">\n",
       "  <thead>\n",
       "    <tr style=\"text-align: right;\">\n",
       "      <th></th>\n",
       "      <th>Sexo</th>\n",
       "      <th>Comprimento</th>\n",
       "      <th>Diâmetro</th>\n",
       "      <th>Altura</th>\n",
       "      <th>Peso total</th>\n",
       "      <th>Peso sem concha</th>\n",
       "      <th>Peso do intestino</th>\n",
       "      <th>Peso da concha</th>\n",
       "    </tr>\n",
       "  </thead>\n",
       "  <tbody>\n",
       "    <tr>\n",
       "      <th>0</th>\n",
       "      <td>M</td>\n",
       "      <td>0.455</td>\n",
       "      <td>0.365</td>\n",
       "      <td>0.095</td>\n",
       "      <td>0.5140</td>\n",
       "      <td>0.2245</td>\n",
       "      <td>0.1010</td>\n",
       "      <td>0.150</td>\n",
       "    </tr>\n",
       "    <tr>\n",
       "      <th>1</th>\n",
       "      <td>M</td>\n",
       "      <td>0.350</td>\n",
       "      <td>0.265</td>\n",
       "      <td>0.090</td>\n",
       "      <td>0.2255</td>\n",
       "      <td>0.0995</td>\n",
       "      <td>0.0485</td>\n",
       "      <td>0.070</td>\n",
       "    </tr>\n",
       "    <tr>\n",
       "      <th>2</th>\n",
       "      <td>F</td>\n",
       "      <td>0.530</td>\n",
       "      <td>0.420</td>\n",
       "      <td>0.135</td>\n",
       "      <td>0.6770</td>\n",
       "      <td>0.2565</td>\n",
       "      <td>0.1415</td>\n",
       "      <td>0.210</td>\n",
       "    </tr>\n",
       "    <tr>\n",
       "      <th>3</th>\n",
       "      <td>M</td>\n",
       "      <td>0.440</td>\n",
       "      <td>0.365</td>\n",
       "      <td>0.125</td>\n",
       "      <td>0.5160</td>\n",
       "      <td>0.2155</td>\n",
       "      <td>0.1140</td>\n",
       "      <td>0.155</td>\n",
       "    </tr>\n",
       "    <tr>\n",
       "      <th>4</th>\n",
       "      <td>I</td>\n",
       "      <td>0.330</td>\n",
       "      <td>0.255</td>\n",
       "      <td>0.080</td>\n",
       "      <td>0.2050</td>\n",
       "      <td>0.0895</td>\n",
       "      <td>0.0395</td>\n",
       "      <td>0.055</td>\n",
       "    </tr>\n",
       "  </tbody>\n",
       "</table>\n",
       "</div>"
      ],
      "text/plain": [
       "  Sexo  Comprimento  Diâmetro  Altura  Peso total  Peso sem concha  \\\n",
       "0    M        0.455     0.365   0.095      0.5140           0.2245   \n",
       "1    M        0.350     0.265   0.090      0.2255           0.0995   \n",
       "2    F        0.530     0.420   0.135      0.6770           0.2565   \n",
       "3    M        0.440     0.365   0.125      0.5160           0.2155   \n",
       "4    I        0.330     0.255   0.080      0.2050           0.0895   \n",
       "\n",
       "   Peso do intestino  Peso da concha  \n",
       "0             0.1010           0.150  \n",
       "1             0.0485           0.070  \n",
       "2             0.1415           0.210  \n",
       "3             0.1140           0.155  \n",
       "4             0.0395           0.055  "
      ]
     },
     "execution_count": 8,
     "metadata": {},
     "output_type": "execute_result"
    }
   ],
   "source": [
    "X.head()"
   ]
  },
  {
   "cell_type": "code",
   "execution_count": 9,
   "id": "ece57cb2",
   "metadata": {},
   "outputs": [
    {
     "data": {
      "text/html": [
       "<div>\n",
       "<style scoped>\n",
       "    .dataframe tbody tr th:only-of-type {\n",
       "        vertical-align: middle;\n",
       "    }\n",
       "\n",
       "    .dataframe tbody tr th {\n",
       "        vertical-align: top;\n",
       "    }\n",
       "\n",
       "    .dataframe thead th {\n",
       "        text-align: right;\n",
       "    }\n",
       "</style>\n",
       "<table border=\"1\" class=\"dataframe\">\n",
       "  <thead>\n",
       "    <tr style=\"text-align: right;\">\n",
       "      <th></th>\n",
       "      <th>Anéis</th>\n",
       "    </tr>\n",
       "  </thead>\n",
       "  <tbody>\n",
       "    <tr>\n",
       "      <th>0</th>\n",
       "      <td>15</td>\n",
       "    </tr>\n",
       "    <tr>\n",
       "      <th>1</th>\n",
       "      <td>7</td>\n",
       "    </tr>\n",
       "    <tr>\n",
       "      <th>2</th>\n",
       "      <td>9</td>\n",
       "    </tr>\n",
       "    <tr>\n",
       "      <th>3</th>\n",
       "      <td>10</td>\n",
       "    </tr>\n",
       "    <tr>\n",
       "      <th>4</th>\n",
       "      <td>7</td>\n",
       "    </tr>\n",
       "  </tbody>\n",
       "</table>\n",
       "</div>"
      ],
      "text/plain": [
       "   Anéis\n",
       "0     15\n",
       "1      7\n",
       "2      9\n",
       "3     10\n",
       "4      7"
      ]
     },
     "execution_count": 9,
     "metadata": {},
     "output_type": "execute_result"
    }
   ],
   "source": [
    "y.head()"
   ]
  },
  {
   "cell_type": "markdown",
   "id": "1457a974-7866-4bf9-b82a-4dc50644e53e",
   "metadata": {},
   "source": [
    "### 1.3 Tratamento de dados"
   ]
  },
  {
   "cell_type": "markdown",
   "id": "e8b0f4a7-79b1-4a27-868d-3f11af8df1fc",
   "metadata": {
    "tags": []
   },
   "source": [
    "Aqui realizamos a normalização e codificação de variáveis categóricas"
   ]
  },
  {
   "cell_type": "markdown",
   "id": "8206891b-19cf-4151-99d2-2e7daa59b6bf",
   "metadata": {},
   "source": [
    "#### 1.3.1 - Tratamento de dados discrepantes"
   ]
  },
  {
   "cell_type": "markdown",
   "id": "f35440b3",
   "metadata": {},
   "source": [
    "Não realizamos, por ter feito testes e nenhum dado ter sido removido "
   ]
  },
  {
   "cell_type": "markdown",
   "id": "c488f511-7f5c-44fc-84e9-e3bfbb87b846",
   "metadata": {
    "tags": []
   },
   "source": [
    "### 1.4 Codificação das variáveis categóricas e Normalização dos dados."
   ]
  },
  {
   "cell_type": "markdown",
   "id": "dd88748a-23c9-435d-bd73-7b82d745bf89",
   "metadata": {},
   "source": [
    "Iremos utilizar o metodo de normalização de dados chamado:\n",
    "\n",
    "- Z-Score"
   ]
  },
  {
   "cell_type": "markdown",
   "id": "5a8f44d7",
   "metadata": {},
   "source": [
    "#### Criando pipeline"
   ]
  },
  {
   "cell_type": "code",
   "execution_count": 10,
   "id": "7cf4c88a",
   "metadata": {},
   "outputs": [],
   "source": [
    "nominal_preprocessor = Pipeline(steps=[\n",
    "    # Codificação das variáveis\n",
    "    ('encoding', OneHotEncoder())\n",
    "])\n",
    "continuous_preprocessor = Pipeline(steps=[\n",
    "    # Normalização\n",
    "    ('normalization', StandardScaler(with_mean=False))\n",
    "])\n",
    "\n",
    "preprocessor = ColumnTransformer([\n",
    "    ('nominal', nominal_preprocessor, nominal_columns),\n",
    "    ('continuos', continuous_preprocessor, continuos_columns)\n",
    "])"
   ]
  },
  {
   "cell_type": "markdown",
   "id": "1ff2874a-3b87-4a5b-b49c-8ec4fa32cd50",
   "metadata": {},
   "source": [
    "## Escolha do modelo"
   ]
  },
  {
   "cell_type": "markdown",
   "id": "91258276-9646-4495-b714-1f93445e96b4",
   "metadata": {
    "tags": []
   },
   "source": [
    "### 2.1 Metodologia"
   ]
  },
  {
   "cell_type": "markdown",
   "id": "249f5cb4-60db-410b-b5ec-16e999f8144f",
   "metadata": {
    "tags": []
   },
   "source": [
    "Iremos análisar quatro modelos, que serão testados utilizando um método de validação cruzada por permutação, os modelos que serão testados serão:\n",
    "\n",
    "- Regressão linear simples (OLS)\n",
    "- Regressão Penalizada Ridge (RR)\n",
    "- K-Nearest-Neighbors (KNN)\n",
    "- Support Vector Regressor (SVR)\n",
    "\n",
    "Além disso, cada um desses algoritmos será testado com diferentes parametros, para que possamos encontrar o melhor modelo e a melhor configuração possível para esse modelo."
   ]
  },
  {
   "cell_type": "markdown",
   "id": "cf7b7791",
   "metadata": {},
   "source": [
    "### 2.2 Modelos Lineares de Regressão"
   ]
  },
  {
   "cell_type": "markdown",
   "id": "eb31cffd",
   "metadata": {},
   "source": [
    "- Regressão linear simples (OLS)\n",
    "- Regressão Penalizada Ridge (RR)"
   ]
  },
  {
   "cell_type": "markdown",
   "id": "5bec9f05-be77-47cb-b465-ad5f08d2c8f8",
   "metadata": {},
   "source": [
    "Para o modelo de Regressão linear simples (OLS):\n",
    "- hiperparametro vazio () por não haver necessidade, pois por padrão ele usa o metodo de Mínimos Quadrados Ordinários)\n",
    "\n",
    "Para o modelo de Regressão Penalizada Ridge (RR):\n",
    "- hiperparametro 'alpha' adotado como np.arange(0.01, 1.0, 0.01) especifica uma sequência de valores de 0.01 a 1.0 (exclusivo) em incrementos de 0.01 para serem testados durante a busca em grade."
   ]
  },
  {
   "cell_type": "code",
   "execution_count": 53,
   "id": "a0896199-35f1-49a5-bc2d-4dc03c47c4f5",
   "metadata": {},
   "outputs": [],
   "source": [
    "linear_models = [\n",
    "    (\n",
    "        \"OLS\",\n",
    "        LinearRegression(),\n",
    "        {\n",
    "            \n",
    "        }\n",
    "\n",
    "    ),\n",
    "    (\n",
    "        \"RR\",\n",
    "        Ridge(),\n",
    "        {\n",
    "            \"alpha\": np.arange(0.01, 5, 0.01)\n",
    "        }\n",
    "    )\n",
    "]"
   ]
  },
  {
   "cell_type": "markdown",
   "id": "8f79491b",
   "metadata": {},
   "source": [
    "Após alguns testes prévios trocando os valores dos parametros, chegamos na seguinte otimizazção:\n",
    "- Nº de repetições 21 ( foram testados valores impares de 1 a 21, sendo 21 o de maior resultado em ambas)\n",
    "- adotamos o coeficiente de determinação r2 para avaliar o desempenho\n",
    "- Utilizamos validação cruzada por permutação com 21 divisões e um tamanho de teste de 20%"
   ]
  },
  {
   "cell_type": "code",
   "execution_count": 54,
   "id": "35178b6a",
   "metadata": {},
   "outputs": [
    {
     "name": "stdout",
     "output_type": "stream",
     "text": [
      "OLS is running...\n",
      "RR is running...\n",
      "Best Parameters for OLS: {}\n",
      "Best Parameters for RR: {'alpha': 4.99}\n"
     ]
    }
   ],
   "source": [
    "n_splits = 21\n",
    "final_results_lm = {}\n",
    "best_params_lm = {}\n",
    "\n",
    "for model_name, model, model_hparams_grid in linear_models:\n",
    "    print(f\"{model_name} is running...\")\n",
    "    model_gs = GridSearchCV(\n",
    "        model,\n",
    "        model_hparams_grid,\n",
    "        scoring='neg_root_mean_squared_error',\n",
    "        cv=5\n",
    "    )\n",
    "    approach = Pipeline(steps=[\n",
    "        (\"preprocessor\", preprocessor),\n",
    "        (\"model\", model_gs)\n",
    "    ])\n",
    "    results = cross_validate(\n",
    "        approach,\n",
    "        X=X,\n",
    "        y = y.to_numpy().ravel(),\n",
    "        scoring=[\n",
    "            \"neg_root_mean_squared_error\",\n",
    "            \"r2\"\n",
    "        ],\n",
    "        cv=ShuffleSplit(n_splits=n_splits, test_size=.2)\n",
    "    )\n",
    "\n",
    "    approach.fit(X, y.to_numpy().ravel())\n",
    "    \n",
    "    best_params = model_gs.best_params_\n",
    "    best_params_lm[model_name] = best_params\n",
    "\n",
    "\n",
    "    results[\"name\"] = [model_name] * n_splits\n",
    "    results[\"test_root_mean_squared_error\"] = np.abs(results.pop(\"test_neg_root_mean_squared_error\"))\n",
    "    if final_results_lm:\n",
    "        for key, value in results.items():\n",
    "            final_results_lm[key] = np.append(final_results_lm[key], value)\n",
    "    else:\n",
    "        final_results_lm = results\n",
    "    \n",
    "for model_name, best_params in best_params_lm.items():\n",
    "    print(f\"Best Parameters for {model_name}: {best_params}\")"
   ]
  },
  {
   "cell_type": "markdown",
   "id": "58e9c590",
   "metadata": {},
   "source": [
    "### 2.3 Modelos Não-Lineares de Regressão"
   ]
  },
  {
   "cell_type": "markdown",
   "id": "b1000cf6",
   "metadata": {},
   "source": [
    "- K-Nearest-Neighbors (KNN)\n",
    "- Support Vector Regressor (SVR)"
   ]
  },
  {
   "cell_type": "markdown",
   "id": "560c0c0c-8d25-4404-a13f-a1e3d7182db6",
   "metadata": {},
   "source": [
    "Para o Modelo K-Nearest Neighbors (KNN):\n",
    "- intervalo de numeros impares de 1 a 50\n",
    "- modelo de pesos é uniforme e que vizinhos que estejam mais proximos tem maior valor\n",
    "\n",
    "Para o Modelo Support Vector Regressor (SVR):\n",
    "- Analisando os dados optamos por escolher a seguinte configuração do kernel:\n",
    "  - Radial Basis Function (RBF) - \"rbf\"\n",
    "  - Polynomial - \"poly\"\n",
    "  - Sigmoid - \"sigmoid\""
   ]
  },
  {
   "cell_type": "code",
   "execution_count": 49,
   "id": "8158e738",
   "metadata": {},
   "outputs": [],
   "source": [
    "nonlinear_models = [\n",
    "    (\n",
    "        \"KNN\",\n",
    "        KNeighborsRegressor(),\n",
    "        {\n",
    "            \"n_neighbors\": np.arange(1, 50, 2),\n",
    "            \"weights\": [\"uniform\",\"distance\"]\n",
    "        }\n",
    "    ),\n",
    "    \n",
    "    (\n",
    "        \"SVR\",\n",
    "        SVR(max_iter=100000),\n",
    "        {\n",
    "            \"kernel\": [\"rbf\", \"poly\", \"sigmoid\"]\n",
    "        }\n",
    "    )\n",
    "]"
   ]
  },
  {
   "cell_type": "markdown",
   "id": "6c84cfd5",
   "metadata": {},
   "source": [
    "Após alguns testes prévios trocando os valores dos parametros, chegamos na seguinte otimizazção:\n",
    "- Nº de repetições 21 ( foram testados valores de 1 a 21, sendo 21 o de maior resultado em ambas)\n",
    "- adotamos o coeficiente de determinação r2 para avaliar o desempenho\n",
    "- Utilizamos validação cruzada por permutação com 21 divisões e um tamanho de teste de 20%"
   ]
  },
  {
   "cell_type": "code",
   "execution_count": 50,
   "id": "2f31cbfa",
   "metadata": {
    "tags": []
   },
   "outputs": [
    {
     "name": "stdout",
     "output_type": "stream",
     "text": [
      "KNN is running...\n",
      "SVR is running...\n",
      "Best Parameters for OLS: {}\n",
      "Best Parameters for RR: {'alpha': 4.99}\n",
      "Best Parameters for KNN: {'n_neighbors': 15, 'weights': 'distance'}\n",
      "Best Parameters for SVR: {'kernel': 'rbf'}\n"
     ]
    }
   ],
   "source": [
    "n_splits = 21\n",
    "final_results_nlm = {}\n",
    "for model_name, model, model_hparams_grid in nonlinear_models:\n",
    "    print(f\"{model_name} is running...\")\n",
    "    model_gs = GridSearchCV(\n",
    "        model,\n",
    "        model_hparams_grid,\n",
    "        scoring='neg_root_mean_squared_error',\n",
    "        cv=5\n",
    "    )\n",
    "    approach = Pipeline(steps=[\n",
    "        (\"preprocessor\", preprocessor),\n",
    "        (\"model\", model_gs)\n",
    "    ])\n",
    "    results = cross_validate(\n",
    "        approach,\n",
    "        X=X,\n",
    "        y = y.to_numpy().ravel(),\n",
    "        scoring=[\n",
    "            \"neg_root_mean_squared_error\",\n",
    "            \"r2\"\n",
    "        ],\n",
    "        cv=ShuffleSplit(n_splits=n_splits, test_size=.2)\n",
    "    )\n",
    "\n",
    "    approach.fit(X, y.to_numpy().ravel())\n",
    "    \n",
    "    best_params = model_gs.best_params_\n",
    "    best_params_lm[model_name] = best_params\n",
    "    \n",
    "    results[\"name\"] = [model_name] * n_splits\n",
    "    results[\"test_root_mean_squared_error\"] = np.abs(results.pop(\"test_neg_root_mean_squared_error\"))\n",
    "    if final_results_nlm:\n",
    "        for key, value in results.items():\n",
    "            final_results_nlm[key] = np.append(final_results_nlm[key], value)\n",
    "    else:\n",
    "        final_results_nlm = results\n",
    "\n",
    "for model_name, best_params in best_params_lm.items():\n",
    "    print(f\"Best Parameters for {model_name}: {best_params}\")"
   ]
  },
  {
   "cell_type": "markdown",
   "id": "f0eb348b-4dba-499d-84f3-31b658b2fd82",
   "metadata": {
    "tags": []
   },
   "source": [
    "### 2.4 Resultados da experimentação"
   ]
  },
  {
   "cell_type": "markdown",
   "id": "ed17f7a8",
   "metadata": {
    "tags": []
   },
   "source": [
    "#### 2.4.1 Modelos Lineares"
   ]
  },
  {
   "cell_type": "code",
   "execution_count": 55,
   "id": "1cdf6408",
   "metadata": {},
   "outputs": [
    {
     "data": {
      "text/html": [
       "<div>\n",
       "<style scoped>\n",
       "    .dataframe tbody tr th:only-of-type {\n",
       "        vertical-align: middle;\n",
       "    }\n",
       "\n",
       "    .dataframe tbody tr th {\n",
       "        vertical-align: top;\n",
       "    }\n",
       "\n",
       "    .dataframe thead th {\n",
       "        text-align: right;\n",
       "    }\n",
       "</style>\n",
       "<table border=\"1\" class=\"dataframe\">\n",
       "  <thead>\n",
       "    <tr style=\"text-align: right;\">\n",
       "      <th></th>\n",
       "      <th>name</th>\n",
       "      <th>OLS</th>\n",
       "      <th>RR</th>\n",
       "    </tr>\n",
       "  </thead>\n",
       "  <tbody>\n",
       "    <tr>\n",
       "      <th rowspan=\"2\" valign=\"top\">fit_time</th>\n",
       "      <th>mean</th>\n",
       "      <td>0.022639</td>\n",
       "      <td>5.406434</td>\n",
       "    </tr>\n",
       "    <tr>\n",
       "      <th>std</th>\n",
       "      <td>0.002337</td>\n",
       "      <td>0.496836</td>\n",
       "    </tr>\n",
       "    <tr>\n",
       "      <th rowspan=\"2\" valign=\"top\">score_time</th>\n",
       "      <th>mean</th>\n",
       "      <td>0.004975</td>\n",
       "      <td>0.004921</td>\n",
       "    </tr>\n",
       "    <tr>\n",
       "      <th>std</th>\n",
       "      <td>0.002187</td>\n",
       "      <td>0.001235</td>\n",
       "    </tr>\n",
       "    <tr>\n",
       "      <th rowspan=\"2\" valign=\"top\">test_r2</th>\n",
       "      <th>mean</th>\n",
       "      <td>0.520441</td>\n",
       "      <td>0.536488</td>\n",
       "    </tr>\n",
       "    <tr>\n",
       "      <th>std</th>\n",
       "      <td>0.028013</td>\n",
       "      <td>0.021415</td>\n",
       "    </tr>\n",
       "    <tr>\n",
       "      <th rowspan=\"2\" valign=\"top\">test_root_mean_squared_error</th>\n",
       "      <th>mean</th>\n",
       "      <td>2.230271</td>\n",
       "      <td>2.223921</td>\n",
       "    </tr>\n",
       "    <tr>\n",
       "      <th>std</th>\n",
       "      <td>0.089971</td>\n",
       "      <td>0.087914</td>\n",
       "    </tr>\n",
       "  </tbody>\n",
       "</table>\n",
       "</div>"
      ],
      "text/plain": [
       "name                                    OLS        RR\n",
       "fit_time                     mean  0.022639  5.406434\n",
       "                             std   0.002337  0.496836\n",
       "score_time                   mean  0.004975  0.004921\n",
       "                             std   0.002187  0.001235\n",
       "test_r2                      mean  0.520441  0.536488\n",
       "                             std   0.028013  0.021415\n",
       "test_root_mean_squared_error mean  2.230271  2.223921\n",
       "                             std   0.089971  0.087914"
      ]
     },
     "execution_count": 55,
     "metadata": {},
     "output_type": "execute_result"
    }
   ],
   "source": [
    "(\n",
    "    pd\n",
    "    .DataFrame(final_results_lm)\n",
    "    .groupby('name')\n",
    "    .agg(['mean', 'std'])\n",
    "    .transpose()\n",
    ")"
   ]
  },
  {
   "cell_type": "markdown",
   "id": "215417c7",
   "metadata": {},
   "source": [
    "#### 2.4.2 Modelos Não-Lineares"
   ]
  },
  {
   "cell_type": "code",
   "execution_count": 52,
   "id": "dcefba60",
   "metadata": {},
   "outputs": [
    {
     "data": {
      "text/html": [
       "<div>\n",
       "<style scoped>\n",
       "    .dataframe tbody tr th:only-of-type {\n",
       "        vertical-align: middle;\n",
       "    }\n",
       "\n",
       "    .dataframe tbody tr th {\n",
       "        vertical-align: top;\n",
       "    }\n",
       "\n",
       "    .dataframe thead th {\n",
       "        text-align: right;\n",
       "    }\n",
       "</style>\n",
       "<table border=\"1\" class=\"dataframe\">\n",
       "  <thead>\n",
       "    <tr style=\"text-align: right;\">\n",
       "      <th></th>\n",
       "      <th>name</th>\n",
       "      <th>KNN</th>\n",
       "      <th>SVR</th>\n",
       "    </tr>\n",
       "  </thead>\n",
       "  <tbody>\n",
       "    <tr>\n",
       "      <th rowspan=\"2\" valign=\"top\">fit_time</th>\n",
       "      <th>mean</th>\n",
       "      <td>6.134819</td>\n",
       "      <td>8.197040</td>\n",
       "    </tr>\n",
       "    <tr>\n",
       "      <th>std</th>\n",
       "      <td>1.252128</td>\n",
       "      <td>0.699592</td>\n",
       "    </tr>\n",
       "    <tr>\n",
       "      <th rowspan=\"2\" valign=\"top\">score_time</th>\n",
       "      <th>mean</th>\n",
       "      <td>0.026955</td>\n",
       "      <td>0.280972</td>\n",
       "    </tr>\n",
       "    <tr>\n",
       "      <th>std</th>\n",
       "      <td>0.005692</td>\n",
       "      <td>0.037431</td>\n",
       "    </tr>\n",
       "    <tr>\n",
       "      <th rowspan=\"2\" valign=\"top\">test_r2</th>\n",
       "      <th>mean</th>\n",
       "      <td>0.521831</td>\n",
       "      <td>0.524043</td>\n",
       "    </tr>\n",
       "    <tr>\n",
       "      <th>std</th>\n",
       "      <td>0.017963</td>\n",
       "      <td>0.016654</td>\n",
       "    </tr>\n",
       "    <tr>\n",
       "      <th rowspan=\"2\" valign=\"top\">test_root_mean_squared_error</th>\n",
       "      <th>mean</th>\n",
       "      <td>2.262508</td>\n",
       "      <td>2.226751</td>\n",
       "    </tr>\n",
       "    <tr>\n",
       "      <th>std</th>\n",
       "      <td>0.108292</td>\n",
       "      <td>0.066687</td>\n",
       "    </tr>\n",
       "  </tbody>\n",
       "</table>\n",
       "</div>"
      ],
      "text/plain": [
       "name                                    KNN       SVR\n",
       "fit_time                     mean  6.134819  8.197040\n",
       "                             std   1.252128  0.699592\n",
       "score_time                   mean  0.026955  0.280972\n",
       "                             std   0.005692  0.037431\n",
       "test_r2                      mean  0.521831  0.524043\n",
       "                             std   0.017963  0.016654\n",
       "test_root_mean_squared_error mean  2.262508  2.226751\n",
       "                             std   0.108292  0.066687"
      ]
     },
     "execution_count": 52,
     "metadata": {},
     "output_type": "execute_result"
    }
   ],
   "source": [
    "(\n",
    "    pd\n",
    "    .DataFrame(final_results_nlm)\n",
    "    .groupby('name')\n",
    "    .agg(['mean', 'std'])\n",
    "    .transpose()\n",
    ")"
   ]
  },
  {
   "cell_type": "markdown",
   "id": "651768cf-cd05-41f6-a62d-0f5639ceebdc",
   "metadata": {
    "tags": []
   },
   "source": [
    "### O melhor modelo obtido foi : Ridge Regression"
   ]
  },
  {
   "cell_type": "markdown",
   "id": "39c8a07e-64b0-4d7e-a1ad-5a87983174a3",
   "metadata": {},
   "source": [
    "### 2.6 Exportando o modelo"
   ]
  },
  {
   "cell_type": "code",
   "execution_count": 17,
   "id": "fe587ecc-03de-4ed0-855c-700a3e86ac81",
   "metadata": {
    "tags": []
   },
   "outputs": [],
   "source": [
    "# Salva o modelo em disco\n",
    "#joblib.dump(approach, '../models/model.joblib')  # executar somente após revisão dos dados"
   ]
  }
 ],
 "metadata": {
  "kernelspec": {
   "display_name": "Python 3 (ipykernel)",
   "language": "python",
   "name": "python3"
  },
  "language_info": {
   "codemirror_mode": {
    "name": "ipython",
    "version": 3
   },
   "file_extension": ".py",
   "mimetype": "text/x-python",
   "name": "python",
   "nbconvert_exporter": "python",
   "pygments_lexer": "ipython3",
   "version": "3.10.5"
  }
 },
 "nbformat": 4,
 "nbformat_minor": 5
}
