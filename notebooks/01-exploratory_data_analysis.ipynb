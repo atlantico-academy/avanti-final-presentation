{
 "cells": [
  {
   "cell_type": "markdown",
   "metadata": {},
   "source": [
    "# Análise exploratória de dados"
   ]
  },
  {
   "cell_type": "code",
   "execution_count": 53,
   "metadata": {},
   "outputs": [],
   "source": [
    "import pandas as pd\n",
    "import numpy as np\n",
    "import matplotlib.pyplot as plt\n",
    "import csv\n",
    "import os"
   ]
  },
  {
   "cell_type": "markdown",
   "metadata": {},
   "source": [
    "# Importando os dados"
   ]
  },
  {
   "cell_type": "code",
   "execution_count": 41,
   "metadata": {},
   "outputs": [],
   "source": [
    "names = ['Sex', 'Length', 'Diameter', 'Height', 'Whole_weight', 'Shucked_weight', 'Viscera_weight', 'Shell_weight', 'Rings']"
   ]
  },
  {
   "cell_type": "code",
   "execution_count": 42,
   "metadata": {},
   "outputs": [],
   "source": [
    "# do diretorio da catherine\n",
    "df = pd.read_csv(r\"\\Users\\User\\equipe-01\\data\\raw\\abalone.csv\", header=None, names=names)"
   ]
  },
  {
   "cell_type": "code",
   "execution_count": 43,
   "metadata": {},
   "outputs": [
    {
     "data": {
      "text/html": [
       "<div>\n",
       "<style scoped>\n",
       "    .dataframe tbody tr th:only-of-type {\n",
       "        vertical-align: middle;\n",
       "    }\n",
       "\n",
       "    .dataframe tbody tr th {\n",
       "        vertical-align: top;\n",
       "    }\n",
       "\n",
       "    .dataframe thead th {\n",
       "        text-align: right;\n",
       "    }\n",
       "</style>\n",
       "<table border=\"1\" class=\"dataframe\">\n",
       "  <thead>\n",
       "    <tr style=\"text-align: right;\">\n",
       "      <th></th>\n",
       "      <th>Sex</th>\n",
       "      <th>Length</th>\n",
       "      <th>Diameter</th>\n",
       "      <th>Height</th>\n",
       "      <th>Whole_weight</th>\n",
       "      <th>Shucked_weight</th>\n",
       "      <th>Viscera_weight</th>\n",
       "      <th>Shell_weight</th>\n",
       "      <th>Rings</th>\n",
       "    </tr>\n",
       "  </thead>\n",
       "  <tbody>\n",
       "    <tr>\n",
       "      <th>0</th>\n",
       "      <td>M</td>\n",
       "      <td>0.455</td>\n",
       "      <td>0.365</td>\n",
       "      <td>0.095</td>\n",
       "      <td>0.5140</td>\n",
       "      <td>0.2245</td>\n",
       "      <td>0.1010</td>\n",
       "      <td>0.150</td>\n",
       "      <td>15</td>\n",
       "    </tr>\n",
       "    <tr>\n",
       "      <th>1</th>\n",
       "      <td>M</td>\n",
       "      <td>0.350</td>\n",
       "      <td>0.265</td>\n",
       "      <td>0.090</td>\n",
       "      <td>0.2255</td>\n",
       "      <td>0.0995</td>\n",
       "      <td>0.0485</td>\n",
       "      <td>0.070</td>\n",
       "      <td>7</td>\n",
       "    </tr>\n",
       "    <tr>\n",
       "      <th>2</th>\n",
       "      <td>F</td>\n",
       "      <td>0.530</td>\n",
       "      <td>0.420</td>\n",
       "      <td>0.135</td>\n",
       "      <td>0.6770</td>\n",
       "      <td>0.2565</td>\n",
       "      <td>0.1415</td>\n",
       "      <td>0.210</td>\n",
       "      <td>9</td>\n",
       "    </tr>\n",
       "    <tr>\n",
       "      <th>3</th>\n",
       "      <td>M</td>\n",
       "      <td>0.440</td>\n",
       "      <td>0.365</td>\n",
       "      <td>0.125</td>\n",
       "      <td>0.5160</td>\n",
       "      <td>0.2155</td>\n",
       "      <td>0.1140</td>\n",
       "      <td>0.155</td>\n",
       "      <td>10</td>\n",
       "    </tr>\n",
       "    <tr>\n",
       "      <th>4</th>\n",
       "      <td>I</td>\n",
       "      <td>0.330</td>\n",
       "      <td>0.255</td>\n",
       "      <td>0.080</td>\n",
       "      <td>0.2050</td>\n",
       "      <td>0.0895</td>\n",
       "      <td>0.0395</td>\n",
       "      <td>0.055</td>\n",
       "      <td>7</td>\n",
       "    </tr>\n",
       "  </tbody>\n",
       "</table>\n",
       "</div>"
      ],
      "text/plain": [
       "  Sex  Length  Diameter  Height  Whole_weight  Shucked_weight  Viscera_weight  \\\n",
       "0   M   0.455     0.365   0.095        0.5140          0.2245          0.1010   \n",
       "1   M   0.350     0.265   0.090        0.2255          0.0995          0.0485   \n",
       "2   F   0.530     0.420   0.135        0.6770          0.2565          0.1415   \n",
       "3   M   0.440     0.365   0.125        0.5160          0.2155          0.1140   \n",
       "4   I   0.330     0.255   0.080        0.2050          0.0895          0.0395   \n",
       "\n",
       "   Shell_weight  Rings  \n",
       "0         0.150     15  \n",
       "1         0.070      7  \n",
       "2         0.210      9  \n",
       "3         0.155     10  \n",
       "4         0.055      7  "
      ]
     },
     "execution_count": 43,
     "metadata": {},
     "output_type": "execute_result"
    }
   ],
   "source": [
    "df.head()"
   ]
  },
  {
   "cell_type": "markdown",
   "metadata": {},
   "source": [
    "## 1. Descrição dos dados"
   ]
  },
  {
   "cell_type": "markdown",
   "metadata": {},
   "source": [
    "## Dicionário"
   ]
  },
  {
   "cell_type": "markdown",
   "metadata": {},
   "source": [
    "### Criando o dicionário"
   ]
  },
  {
   "cell_type": "code",
   "execution_count": 58,
   "metadata": {},
   "outputs": [],
   "source": [
    "df_dict = {\n",
    "    'sexo': {'descrição': ' sexo do molusco', 'tipo': ' qualitativo', 'subtipo': ' nominal'}, \n",
    "    'comprimento': {'descrição': ' tamanho máximo da concha (mm)', 'tipo': ' quantitativo', 'subtipo': ' contínuo'}, \n",
    "    'diâmetro': {'descrição':' medida perpendicular ao comprimento (mm)', 'tipo': ' qualitativo', 'subtipo': ' contínuo'}, \n",
    "    'altura': {'descrição':' altura total do molusco com casca (mm)', 'tipo': ' qualitativo', 'subtipo': ' contínuo'}, \n",
    "    'peso total': {'descrição':' peso total do molusco (g)', 'tipo': ' quantitativo', 'subtipo': ' contínuo'}, \n",
    "    'peso sem casca': {'descrição':' peso do molusco sem casca (g)', 'tipo': ' quantitativo', 'subtipo': ' contínuo'}, \n",
    "    'peso do intestino': {'descrição':' peso do intestino após sangrar (g)', 'tipo': ' quantitativo', 'subtipo': ' contínuo'},\n",
    "    'peso da concha': {'descrição': ' peso da concha seca (g)', 'tipo': ' quantitativo', 'subtipo': ' contínuo'},\n",
    "    'anéis': {'descrição': ' quantidade de anéis, +1.5 é a idade do abalone', 'tipo': ' quantitativo', 'subtipo': ' discreto' }\n",
    "}"
   ]
  },
  {
   "cell_type": "code",
   "execution_count": 59,
   "metadata": {},
   "outputs": [
    {
     "data": {
      "text/plain": [
       "{'sexo': {'descrição': ' sexo do molusco',\n",
       "  'tipo': ' qualitativo',\n",
       "  'subtipo': ' nominal'},\n",
       " 'comprimento': {'descrição': ' tamanho máximo da concha (mm)',\n",
       "  'tipo': ' quantitativo',\n",
       "  'subtipo': ' contínuo'},\n",
       " 'diâmetro': {'descrição': ' medida perpendicular ao comprimento (mm)',\n",
       "  'tipo': ' qualitativo',\n",
       "  'subtipo': ' contínuo'},\n",
       " 'altura': {'descrição': ' altura total do molusco com casca (mm)',\n",
       "  'tipo': ' qualitativo',\n",
       "  'subtipo': ' contínuo'},\n",
       " 'peso total': {'descrição': ' peso total do molusco (g)',\n",
       "  'tipo': ' quantitativo',\n",
       "  'subtipo': ' contínuo'},\n",
       " 'peso sem casca': {'descrição': ' peso do molusco sem casca (g)',\n",
       "  'tipo': ' quantitativo',\n",
       "  'subtipo': ' contínuo'},\n",
       " 'peso do intestino': {'descrição': ' peso do intestino após sangrar (g)',\n",
       "  'tipo': ' quantitativo',\n",
       "  'subtipo': ' contínuo'},\n",
       " 'peso da concha': {'descrição': ' peso da concha seca (g)',\n",
       "  'tipo': ' quantitativo',\n",
       "  'subtipo': ' contínuo'},\n",
       " 'anéis': {'descrição': ' quantidade de anéis, +1.5 é a idade do abalone',\n",
       "  'tipo': ' quantitativo',\n",
       "  'subtipo': ' discreto'}}"
      ]
     },
     "execution_count": 59,
     "metadata": {},
     "output_type": "execute_result"
    }
   ],
   "source": [
    "df_dict"
   ]
  },
  {
   "cell_type": "markdown",
   "metadata": {},
   "source": [
    "### Salvando o dicionário como csv"
   ]
  },
  {
   "cell_type": "code",
   "execution_count": 60,
   "metadata": {},
   "outputs": [],
   "source": [
    "directory = r'\\Users\\User\\equipe-01\\data\\external'\n",
    "csv_file = 'abalone_dict.csv'\n",
    "\n",
    "#checando se o diretório existe\n",
    "if not os.path.exists(directory):\n",
    "    os.makedirs(directory)\n",
    "\n",
    "csv_path = os.path.join(directory, csv_file)\n",
    "\n",
    "with open(csv_path, 'w', newline='', encoding='utf-8') as file:\n",
    "    csv_writer = csv.writer(file)\n",
    "    csv_writer.writerow(['Preditor', 'Descrição', 'Tipo', 'Subtipo'])\n",
    "    for column, attributes in df_dict.items():\n",
    "        csv_writer.writerow([column, attributes['descrição'], attributes['tipo'], attributes['subtipo']])"
   ]
  },
  {
   "cell_type": "markdown",
   "metadata": {},
   "source": [
    "## 2. Perguntas de partida e hipóteses"
   ]
  },
  {
   "cell_type": "code",
   "execution_count": null,
   "metadata": {},
   "outputs": [],
   "source": []
  },
  {
   "cell_type": "markdown",
   "metadata": {},
   "source": [
    "## 3. Insights"
   ]
  },
  {
   "cell_type": "code",
   "execution_count": null,
   "metadata": {},
   "outputs": [],
   "source": []
  }
 ],
 "metadata": {
  "kernelspec": {
   "display_name": "Python 3.8.10 ('.venv': poetry)",
   "language": "python",
   "name": "python3"
  },
  "language_info": {
   "codemirror_mode": {
    "name": "ipython",
    "version": 3
   },
   "file_extension": ".py",
   "mimetype": "text/x-python",
   "name": "python",
   "nbconvert_exporter": "python",
   "pygments_lexer": "ipython3",
   "version": "3.10.5"
  },
  "orig_nbformat": 4,
  "vscode": {
   "interpreter": {
    "hash": "eb3c3305d8b111f0102f4f519c5f17abd113fe74db6752c355e994a9008815ef"
   }
  }
 },
 "nbformat": 4,
 "nbformat_minor": 2
}
