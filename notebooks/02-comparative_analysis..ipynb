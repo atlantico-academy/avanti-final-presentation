{
 "cells": [
  {
   "cell_type": "markdown",
   "id": "e8758a8d-8c3f-404d-ad2e-d07d931e8904",
   "metadata": {},
   "source": [
    "# Análise comparativa"
   ]
  },
  {
   "cell_type": "markdown",
   "id": "db5bff04-2a6b-4be7-bee8-d2beac10b054",
   "metadata": {},
   "source": [
    "O objetivo dessa eanalise é comparar modelos para encontrar um que possa ser melhor utilizado dentro do problema em questão (estimar a idade por meio do numero de aneis), para isso antes realizamos a preparação e o pré-processamento dos dados."
   ]
  },
  {
   "cell_type": "markdown",
   "id": "dd79f602-d2f5-4c80-961f-fb2874024cfd",
   "metadata": {},
   "source": [
    "## Preparação dos dados"
   ]
  },
  {
   "cell_type": "markdown",
   "id": "ca2dfb54-586e-42b6-9e60-72af9fd3ec2c",
   "metadata": {},
   "source": [
    "### 1.1 Configurações iniciais"
   ]
  },
  {
   "cell_type": "markdown",
   "id": "e9287a48-5cbb-4fd8-9526-d45f7d9dae7f",
   "metadata": {},
   "source": [
    "Importações e configurações"
   ]
  },
  {
   "cell_type": "code",
   "execution_count": 53,
   "id": "0e0f525a-a243-4403-aa2e-7f4df3663f32",
   "metadata": {
    "tags": []
   },
   "outputs": [],
   "source": [
    "import pandas as pd\n",
    "import numpy as np\n",
    "import matplotlib as mpl\n",
    "import matplotlib.pyplot as plt\n",
    "import csv\n",
    "import os\n",
    "from sklearn.preprocessing import LabelEncoder\n",
    "import seaborn as sns\n",
    "from sklearn.model_selection import train_test_split, cross_val_predict\n",
    "from sklearn.metrics import mean_squared_error, mean_absolute_error, r2_score\n",
    "from sklearn.linear_model import LinearRegression, Ridge\n",
    "from sklearn.neighbors import KNeighborsRegressor\n",
    "from sklearn.svm import SVR\n",
    "from pathlib import Path\n",
    "from scipy import stats\n",
    "from sklearn.preprocessing import StandardScaler"
   ]
  },
  {
   "cell_type": "markdown",
   "id": "9e9118e8-28dc-406e-9d9a-d9fbe8168a2c",
   "metadata": {},
   "source": [
    "### 1.2 Obtendo dados"
   ]
  },
  {
   "cell_type": "markdown",
   "id": "83a9317e-5050-4f74-b1a4-0645ca2d0c88",
   "metadata": {},
   "source": [
    "Nessa etapa vamos importar arquivos brutos de dados e o dicionário antes de começarmos o pre-processamento."
   ]
  },
  {
   "cell_type": "code",
   "execution_count": 54,
   "id": "b0c0e3b1-32e5-4b3f-9d04-e8c2e5fec2ee",
   "metadata": {
    "tags": []
   },
   "outputs": [],
   "source": [
    "#Importando dados\n",
    "names = ['Sexo', 'Comprimento', 'Diâmetro', 'Altura', 'Peso total', 'Peso sem concha', 'Peso do intestino', 'Peso da concha', 'Anéis']\n",
    "df = pd.read_csv('../data/raw/abalone.csv',names = names, skiprows = 1)\n",
    "dic = Path('../data/external/abalone_dict.csv')"
   ]
  },
  {
   "cell_type": "markdown",
   "id": "7f253575-48cc-4e32-a154-5b02edde497e",
   "metadata": {
    "tags": []
   },
   "source": [
    "Definindo os parametros do dataset de entrada e saida"
   ]
  },
  {
   "cell_type": "code",
   "execution_count": 55,
   "id": "ddb93164-ee10-4847-b275-0a5c75de838f",
   "metadata": {
    "tags": []
   },
   "outputs": [],
   "source": [
    "# Fizemos aqui a um drop (exclusão temporaria) da coluna aneis para iniciar o modelo entrada (oque a maquina vai interpretar)\n",
    "# e saida( oque ela vai tentar adivinhar)\n",
    "X = df.drop('Anéis', axis=1)\n",
    "Y = pd.DataFrame({'Anéis': df['Anéis']})"
   ]
  },
  {
   "cell_type": "markdown",
   "id": "1457a974-7866-4bf9-b82a-4dc50644e53e",
   "metadata": {},
   "source": [
    "### 1.3 Tratamento de dados"
   ]
  },
  {
   "cell_type": "markdown",
   "id": "e8b0f4a7-79b1-4a27-868d-3f11af8df1fc",
   "metadata": {
    "tags": []
   },
   "source": [
    "Aqui realizamos a normalização, codificação e o tratamento de dados discrepantes e/ou faltantes dentro do conjunto de dados"
   ]
  },
  {
   "cell_type": "markdown",
   "id": "8206891b-19cf-4151-99d2-2e7daa59b6bf",
   "metadata": {},
   "source": [
    "#### 1.3.1 - Tratamento de dados discrepantes"
   ]
  },
  {
   "cell_type": "code",
   "execution_count": 56,
   "id": "f3e0282a-69ee-46f5-ba11-1dc43034cefb",
   "metadata": {
    "tags": []
   },
   "outputs": [],
   "source": [
    "# Define valor de escala (outliers), valores acima disso serão descartados\n",
    "z_score_threshold = 3\n",
    "\n",
    "numeric_columns = X.select_dtypes(exclude=['object']).columns\n",
    "X_numeric = df[numeric_columns]\n",
    "\n",
    "z_scores = stats.zscore(X_numeric)\n",
    "outliers = (abs(z_scores) > z_score_threshold).all(axis=1)\n",
    "\n",
    "X_new = X[~outliers]"
   ]
  },
  {
   "cell_type": "markdown",
   "id": "6b3b76a9-f3e4-4bba-a4ef-48229b38aaaa",
   "metadata": {},
   "source": [
    "#### 1.3.2 - Conferencia de dados"
   ]
  },
  {
   "cell_type": "code",
   "execution_count": 57,
   "id": "cb383367-598a-4884-a338-c4c810457611",
   "metadata": {
    "tags": []
   },
   "outputs": [
    {
     "name": "stdout",
     "output_type": "stream",
     "text": [
      "<class 'pandas.core.frame.DataFrame'>\n",
      "Int64Index: 4176 entries, 0 to 4175\n",
      "Data columns (total 8 columns):\n",
      " #   Column             Non-Null Count  Dtype  \n",
      "---  ------             --------------  -----  \n",
      " 0   Sexo               4176 non-null   object \n",
      " 1   Comprimento        4176 non-null   float64\n",
      " 2   Diâmetro           4176 non-null   float64\n",
      " 3   Altura             4176 non-null   float64\n",
      " 4   Peso total         4176 non-null   float64\n",
      " 5   Peso sem concha    4176 non-null   float64\n",
      " 6   Peso do intestino  4176 non-null   float64\n",
      " 7   Peso da concha     4176 non-null   float64\n",
      "dtypes: float64(7), object(1)\n",
      "memory usage: 293.6+ KB\n"
     ]
    }
   ],
   "source": [
    "# Checagem prévia\n",
    "X_new.info()"
   ]
  },
  {
   "cell_type": "code",
   "execution_count": null,
   "id": "ec80aa82-47ec-4030-a029-c630c081f854",
   "metadata": {},
   "outputs": [],
   "source": []
  },
  {
   "cell_type": "markdown",
   "id": "006db8e4-b534-43c8-9885-5f6eab518e70",
   "metadata": {},
   "source": [
    "Conforme verificado acima não houve remoção de nenhum valor"
   ]
  },
  {
   "cell_type": "markdown",
   "id": "9749f901-4b0f-41e0-8ee8-201fe63e3c60",
   "metadata": {},
   "source": [
    "### 1.4 Divisão em conjuntos de treino e de teste"
   ]
  },
  {
   "cell_type": "code",
   "execution_count": 58,
   "id": "e4a408e5-0743-4f88-9a7c-a08954adfe8b",
   "metadata": {
    "tags": []
   },
   "outputs": [],
   "source": [
    "# Define os conjuntos que irão ser utilizados e suas caracteristicas\n",
    "X_train, X_test, y_train, y_test = train_test_split(X, Y, test_size=0.2, random_state=42)"
   ]
  },
  {
   "cell_type": "markdown",
   "id": "67212740-42a0-4f64-a92a-8e1889220ff3",
   "metadata": {},
   "source": [
    "- Durante a analise notamos que não temos dados faltantes, então não será necessário fazer o preenchimento ou remoção dedestes valores"
   ]
  },
  {
   "cell_type": "markdown",
   "id": "c488f511-7f5c-44fc-84e9-e3bfbb87b846",
   "metadata": {
    "tags": []
   },
   "source": [
    "### 1.5 Codificação das variáveis categóricas"
   ]
  },
  {
   "cell_type": "markdown",
   "id": "c9e47b40-c1eb-456f-b7c1-8589d8daf5a7",
   "metadata": {},
   "source": [
    "- exemplo\n",
    "- exemplo"
   ]
  },
  {
   "cell_type": "code",
   "execution_count": 59,
   "id": "ea30d647-996b-4c83-8add-bde0639a83b0",
   "metadata": {
    "tags": []
   },
   "outputs": [
    {
     "data": {
      "text/html": [
       "<style>#sk-container-id-5 {color: black;}#sk-container-id-5 pre{padding: 0;}#sk-container-id-5 div.sk-toggleable {background-color: white;}#sk-container-id-5 label.sk-toggleable__label {cursor: pointer;display: block;width: 100%;margin-bottom: 0;padding: 0.3em;box-sizing: border-box;text-align: center;}#sk-container-id-5 label.sk-toggleable__label-arrow:before {content: \"▸\";float: left;margin-right: 0.25em;color: #696969;}#sk-container-id-5 label.sk-toggleable__label-arrow:hover:before {color: black;}#sk-container-id-5 div.sk-estimator:hover label.sk-toggleable__label-arrow:before {color: black;}#sk-container-id-5 div.sk-toggleable__content {max-height: 0;max-width: 0;overflow: hidden;text-align: left;background-color: #f0f8ff;}#sk-container-id-5 div.sk-toggleable__content pre {margin: 0.2em;color: black;border-radius: 0.25em;background-color: #f0f8ff;}#sk-container-id-5 input.sk-toggleable__control:checked~div.sk-toggleable__content {max-height: 200px;max-width: 100%;overflow: auto;}#sk-container-id-5 input.sk-toggleable__control:checked~label.sk-toggleable__label-arrow:before {content: \"▾\";}#sk-container-id-5 div.sk-estimator input.sk-toggleable__control:checked~label.sk-toggleable__label {background-color: #d4ebff;}#sk-container-id-5 div.sk-label input.sk-toggleable__control:checked~label.sk-toggleable__label {background-color: #d4ebff;}#sk-container-id-5 input.sk-hidden--visually {border: 0;clip: rect(1px 1px 1px 1px);clip: rect(1px, 1px, 1px, 1px);height: 1px;margin: -1px;overflow: hidden;padding: 0;position: absolute;width: 1px;}#sk-container-id-5 div.sk-estimator {font-family: monospace;background-color: #f0f8ff;border: 1px dotted black;border-radius: 0.25em;box-sizing: border-box;margin-bottom: 0.5em;}#sk-container-id-5 div.sk-estimator:hover {background-color: #d4ebff;}#sk-container-id-5 div.sk-parallel-item::after {content: \"\";width: 100%;border-bottom: 1px solid gray;flex-grow: 1;}#sk-container-id-5 div.sk-label:hover label.sk-toggleable__label {background-color: #d4ebff;}#sk-container-id-5 div.sk-serial::before {content: \"\";position: absolute;border-left: 1px solid gray;box-sizing: border-box;top: 0;bottom: 0;left: 50%;z-index: 0;}#sk-container-id-5 div.sk-serial {display: flex;flex-direction: column;align-items: center;background-color: white;padding-right: 0.2em;padding-left: 0.2em;position: relative;}#sk-container-id-5 div.sk-item {position: relative;z-index: 1;}#sk-container-id-5 div.sk-parallel {display: flex;align-items: stretch;justify-content: center;background-color: white;position: relative;}#sk-container-id-5 div.sk-item::before, #sk-container-id-5 div.sk-parallel-item::before {content: \"\";position: absolute;border-left: 1px solid gray;box-sizing: border-box;top: 0;bottom: 0;left: 50%;z-index: -1;}#sk-container-id-5 div.sk-parallel-item {display: flex;flex-direction: column;z-index: 1;position: relative;background-color: white;}#sk-container-id-5 div.sk-parallel-item:first-child::after {align-self: flex-end;width: 50%;}#sk-container-id-5 div.sk-parallel-item:last-child::after {align-self: flex-start;width: 50%;}#sk-container-id-5 div.sk-parallel-item:only-child::after {width: 0;}#sk-container-id-5 div.sk-dashed-wrapped {border: 1px dashed gray;margin: 0 0.4em 0.5em 0.4em;box-sizing: border-box;padding-bottom: 0.4em;background-color: white;}#sk-container-id-5 div.sk-label label {font-family: monospace;font-weight: bold;display: inline-block;line-height: 1.2em;}#sk-container-id-5 div.sk-label-container {text-align: center;}#sk-container-id-5 div.sk-container {/* jupyter's `normalize.less` sets `[hidden] { display: none; }` but bootstrap.min.css set `[hidden] { display: none !important; }` so we also need the `!important` here to be able to override the default hidden behavior on the sphinx rendered scikit-learn.org. See: https://github.com/scikit-learn/scikit-learn/issues/21755 */display: inline-block !important;position: relative;}#sk-container-id-5 div.sk-text-repr-fallback {display: none;}</style><div id=\"sk-container-id-5\" class=\"sk-top-container\"><div class=\"sk-text-repr-fallback\"><pre>LabelEncoder()</pre><b>In a Jupyter environment, please rerun this cell to show the HTML representation or trust the notebook. <br />On GitHub, the HTML representation is unable to render, please try loading this page with nbviewer.org.</b></div><div class=\"sk-container\" hidden><div class=\"sk-item\"><div class=\"sk-estimator sk-toggleable\"><input class=\"sk-toggleable__control sk-hidden--visually\" id=\"sk-estimator-id-5\" type=\"checkbox\" checked><label for=\"sk-estimator-id-5\" class=\"sk-toggleable__label sk-toggleable__label-arrow\">LabelEncoder</label><div class=\"sk-toggleable__content\"><pre>LabelEncoder()</pre></div></div></div></div></div>"
      ],
      "text/plain": [
       "LabelEncoder()"
      ]
     },
     "execution_count": 59,
     "metadata": {},
     "output_type": "execute_result"
    }
   ],
   "source": [
    "# Define a variavel para receber valor da LabelEncoder\n",
    "le = LabelEncoder()\n",
    "\n",
    "# Checagem de verificação\n",
    "le.fit(X_train['Sexo'])"
   ]
  },
  {
   "cell_type": "code",
   "execution_count": 60,
   "id": "b34264d6-0ffb-49e1-985e-e1b893a2b208",
   "metadata": {
    "tags": []
   },
   "outputs": [],
   "source": [
    "# Treino\n",
    "X_train['Sexo_t'] = le.transform(X_train['Sexo'])\n",
    "X_train = X_train.drop('Sexo', axis=1)"
   ]
  },
  {
   "cell_type": "code",
   "execution_count": 61,
   "id": "7dfcc134-0e17-4f35-9694-ce9d7ddac4fd",
   "metadata": {},
   "outputs": [],
   "source": [
    "# Teste\n",
    "X_test['Sexo_t'] = le.transform(X_test['Sexo'])\n",
    "X_test = X_test.drop('Sexo', axis=1)"
   ]
  },
  {
   "cell_type": "markdown",
   "id": "9d1b0437-5e5b-48de-a9bc-e3537ddc9fca",
   "metadata": {
    "tags": []
   },
   "source": [
    "### 1.6 Normalização dos dados"
   ]
  },
  {
   "cell_type": "markdown",
   "id": "dd88748a-23c9-435d-bd73-7b82d745bf89",
   "metadata": {},
   "source": [
    "Iremos utilizar o metodo de normalização de dados chamado:\n",
    "\n",
    "- Z-Score"
   ]
  },
  {
   "cell_type": "code",
   "execution_count": 64,
   "id": "a5c2c099-3877-4d60-b15a-728d4c50c1cd",
   "metadata": {
    "tags": []
   },
   "outputs": [],
   "source": [
    "scaler = StandardScaler()\n",
    "X_train2 = scaler.fit_transform(X_train)"
   ]
  },
  {
   "cell_type": "code",
   "execution_count": 65,
   "id": "92f42db4-d40b-428d-ac35-3374fd2aeb4d",
   "metadata": {
    "tags": []
   },
   "outputs": [],
   "source": [
    "X_test2 = scaler.fit_transform(X_test)"
   ]
  },
  {
   "cell_type": "markdown",
   "id": "1ff2874a-3b87-4a5b-b49c-8ec4fa32cd50",
   "metadata": {},
   "source": [
    "## Escolha do modelo"
   ]
  },
  {
   "cell_type": "markdown",
   "id": "91258276-9646-4495-b714-1f93445e96b4",
   "metadata": {
    "tags": []
   },
   "source": [
    "### 2.1 Metodologia"
   ]
  },
  {
   "cell_type": "markdown",
   "id": "249f5cb4-60db-410b-b5ec-16e999f8144f",
   "metadata": {
    "tags": []
   },
   "source": [
    "Iremos análisar quatro modelos, que serão testados utilizando um método de validação cruzada por permutação, os modelos que serão testados serão:\n",
    "\n",
    "- Logistic Regression (LR) - Regressão linear simples\n",
    "- Regressão de Ridge (RR)\n",
    "- K-Nearest-Neighbors (KNN)\n",
    "- Support Vector Machine (SVM)\n",
    "\n",
    "Além disso, cada um desses algoritmos será testado com diferentes parametros, para que possamos encontrar o melhor modelo e a melhor configuração possível para esse modelo.\n",
    "\n",
    "Os modelos serão comparados através dos seguintes parâmetros"
   ]
  },
  {
   "cell_type": "code",
   "execution_count": null,
   "id": "a0896199-35f1-49a5-bc2d-4dc03c47c4f5",
   "metadata": {},
   "outputs": [],
   "source": []
  },
  {
   "cell_type": "markdown",
   "id": "091d03c5-0757-4ae0-915e-60e111bdfb73",
   "metadata": {
    "tags": []
   },
   "source": [
    "### 2.2 Configuração do experimento"
   ]
  },
  {
   "cell_type": "markdown",
   "id": "4c353371-8343-4a8f-b6ce-319678405ea5",
   "metadata": {},
   "source": [
    "Iremos separar o conjunto de dados em conjunto de testes e de treino para realizar a validação cruzada"
   ]
  },
  {
   "cell_type": "markdown",
   "id": "b0c2be88-8482-4919-a456-565ccbe75108",
   "metadata": {},
   "source": [
    "Agora iremos realizar o teste com os modelos definidos anteriormente, testando também os diferentes parâmetros para obter a melhor combinação possível."
   ]
  },
  {
   "cell_type": "markdown",
   "id": "eb22b463-e9d3-4f16-84b9-6b6cd22cc5bc",
   "metadata": {},
   "source": [
    "##### Regressão linear simples"
   ]
  },
  {
   "cell_type": "code",
   "execution_count": 66,
   "id": "9b72b0b1-4529-45a8-a908-a3140393734e",
   "metadata": {
    "tags": []
   },
   "outputs": [],
   "source": [
    "# Atribuindo variáveis e realizando a execução\n",
    "lr = LinearRegression()\n",
    "lr.fit(X_train2, y_train)\n",
    "y_pred_lr = lr.predict(X_test2)\n",
    "y_pred_lr_int = np.round(y_pred_lr).astype(int)"
   ]
  },
  {
   "cell_type": "code",
   "execution_count": 67,
   "id": "9bd784f8-6021-40cb-95e0-9aea3483cbe4",
   "metadata": {
    "tags": []
   },
   "outputs": [
    {
     "name": "stdout",
     "output_type": "stream",
     "text": [
      "RMSE: 2.209\n",
      "R^2: 0.559\n"
     ]
    }
   ],
   "source": [
    "# Checando os valores obtidos\n",
    "mse_lr = mean_squared_error(y_test, y_pred_lr_int, squared=False)\n",
    "print(f\"RMSE: {mse_lr:.3f}\")\n",
    "r2_lr = r2_score(y_test,y_pred_lr_int)\n",
    "print(f\"R^2: {r2_lr:.3f}\")"
   ]
  },
  {
   "cell_type": "markdown",
   "id": "c1454962-5160-4d49-974e-fbf361959e90",
   "metadata": {},
   "source": [
    "#####  Regressão Ridge"
   ]
  },
  {
   "cell_type": "markdown",
   "id": "e58e56da-fe89-42fb-bbef-af23a5a0e04d",
   "metadata": {
    "tags": []
   },
   "source": [
    "- execução teste"
   ]
  },
  {
   "cell_type": "code",
   "execution_count": 70,
   "id": "dd833edc-7e36-4206-9170-6d467bf44ad4",
   "metadata": {
    "tags": []
   },
   "outputs": [],
   "source": [
    "# Parametros inicias\n",
    "alphas = np.arange(0.25, 30, 0.25)"
   ]
  },
  {
   "cell_type": "code",
   "execution_count": 71,
   "id": "820d23a5-a883-4fc1-9fa1-54c7c2e41d1c",
   "metadata": {
    "tags": []
   },
   "outputs": [
    {
     "name": "stdout",
     "output_type": "stream",
     "text": [
      "Melhor lambda: 3.25\n",
      "RMSE associado: 2.269\n",
      "\n",
      "Lambda para melhor r2: 3.25\n",
      "Melhor r2: 0.496\n"
     ]
    }
   ],
   "source": [
    "# Lógica da função de regressão de Ridge\n",
    "\n",
    "best_alpha_5folds = 0\n",
    "best_rmse_5folds = np.Inf\n",
    "\n",
    "best_alpha_for_r2_5folds = 0\n",
    "best_r2_5folds = 0\n",
    "\n",
    "rmses_5folds = []\n",
    "r2_scores_5folds = []\n",
    "\n",
    "for alpha in alphas:\n",
    "  ridge = Ridge(alpha= alpha)\n",
    "  predictions = cross_val_predict(ridge, X_train2, y_train, cv=5)\n",
    "  predictions_int = np.round(predictions).astype(int)\n",
    "  rmse_score = mean_squared_error(y_train, predictions_int, squared=False)\n",
    "  rmses_5folds.append(rmse_score)\n",
    "\n",
    "  r2 = r2_score(y_train, predictions_int)\n",
    "  r2_scores_5folds.append(r2)\n",
    "\n",
    "  if rmse_score < best_rmse_5folds:\n",
    "    best_rmse_5folds = rmse_score\n",
    "    best_alpha_5folds = alpha\n",
    "\n",
    "  if r2 > best_r2_5folds:\n",
    "    best_r2_5folds = r2\n",
    "    best_alpha_for_r2_5folds = alpha\n",
    "\n",
    "print(f\"Melhor lambda: {best_alpha_5folds}\")\n",
    "print(f\"RMSE associado: {best_rmse_5folds:.3f}\\n\")\n",
    "\n",
    "print(f\"Lambda para melhor r2: {best_alpha_for_r2_5folds}\")\n",
    "print(f\"Melhor r2: {best_r2_5folds:.3f}\")"
   ]
  },
  {
   "cell_type": "markdown",
   "id": "9261cb14-a254-49cb-80b7-165364071e9f",
   "metadata": {
    "tags": []
   },
   "source": [
    "- execução definitiva"
   ]
  },
  {
   "cell_type": "code",
   "execution_count": 74,
   "id": "7c19de59-4c4a-4ac1-8878-d6420a081599",
   "metadata": {
    "tags": []
   },
   "outputs": [],
   "source": [
    "#Parêmatros iniciais\n",
    "ridge = Ridge(best_alpha_5folds)\n",
    "ridge.fit(X_train2, y_train)\n",
    "\n",
    "y_pred_ri = ridge.predict(X_test2)\n",
    "y_pred_ri_int = np.round(y_pred_ri).astype(int)"
   ]
  },
  {
   "cell_type": "code",
   "execution_count": 75,
   "id": "5c6ac861-05e7-4782-9d95-95ba26c7686c",
   "metadata": {
    "tags": []
   },
   "outputs": [
    {
     "name": "stdout",
     "output_type": "stream",
     "text": [
      "RMSE: 2.217\n",
      "R^2: 0.556\n"
     ]
    }
   ],
   "source": [
    "#Função da regressão de Ridge\n",
    "mse_ri = mean_squared_error(y_test, y_pred_ri_int, squared=False)\n",
    "print(f\"RMSE: {mse_ri:.3f}\")\n",
    "r2_ri= r2_score(y_test, y_pred_ri_int)\n",
    "print(f\"R^2: {r2_ri:.3f}\")"
   ]
  },
  {
   "cell_type": "markdown",
   "id": "ba763d30-4b64-4fb8-9da4-5cec6ec36120",
   "metadata": {},
   "source": [
    "### 2.2 Configuração do experimento"
   ]
  },
  {
   "cell_type": "markdown",
   "id": "5ad78b07-8263-44bb-92ac-66ff9dd61906",
   "metadata": {},
   "source": [
    "Aqui iremos comparar os resultados e definir um modelo para ser utilizado no projeto"
   ]
  },
  {
   "cell_type": "markdown",
   "id": "f0eb348b-4dba-499d-84f3-31b658b2fd82",
   "metadata": {
    "tags": []
   },
   "source": [
    "### 2.4 Resultado exxperimento"
   ]
  },
  {
   "cell_type": "markdown",
   "id": "651768cf-cd05-41f6-a62d-0f5639ceebdc",
   "metadata": {
    "tags": []
   },
   "source": [
    "O melhor modelo obtido foi : *********"
   ]
  },
  {
   "cell_type": "markdown",
   "id": "db6ec29b-8d14-4ce0-90aa-c3e8b08abf44",
   "metadata": {
    "tags": []
   },
   "source": [
    "### 2.5 Percistencia do modelo"
   ]
  },
  {
   "cell_type": "code",
   "execution_count": null,
   "id": "a6704f80-b87b-44d0-81d0-f23c9e84126c",
   "metadata": {},
   "outputs": [],
   "source": []
  },
  {
   "cell_type": "code",
   "execution_count": null,
   "id": "42fcbbd2-7572-42d7-81f9-0aac54538827",
   "metadata": {},
   "outputs": [],
   "source": []
  }
 ],
 "metadata": {
  "kernelspec": {
   "display_name": "Python 3 (ipykernel)",
   "language": "python",
   "name": "python3"
  },
  "language_info": {
   "codemirror_mode": {
    "name": "ipython",
    "version": 3
   },
   "file_extension": ".py",
   "mimetype": "text/x-python",
   "name": "python",
   "nbconvert_exporter": "python",
   "pygments_lexer": "ipython3",
   "version": "3.10.12"
  }
 },
 "nbformat": 4,
 "nbformat_minor": 5
}
